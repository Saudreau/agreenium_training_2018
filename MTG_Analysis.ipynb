{
 "cells": [
  {
   "cell_type": "markdown",
   "metadata": {},
   "source": [
    "# TP2: Architectural Analysis\n"
   ]
  },
  {
   "cell_type": "markdown",
   "metadata": {},
   "source": [
    "## Load an MTG file"
   ]
  },
  {
   "cell_type": "code",
   "execution_count": 1,
   "metadata": {},
   "outputs": [],
   "source": [
    "from path import Path\n",
    "# load MTG files\n",
    "data = Path('data')\n",
    "\n",
    "breaburn, fuji1, fuji2= data.glob('apple*.mtg')"
   ]
  },
  {
   "cell_type": "code",
   "execution_count": 2,
   "metadata": {},
   "outputs": [
    {
     "name": "stdout",
     "output_type": "stream",
     "text": [
      "#Pommier Melgueil Braeburn 64\t\t\t\t\n",
      "CODE :\tFORM-A\t\t\t\n",
      "CLASSES:\t\t\t\t\n",
      "SYMBOL\tSCALE\tDECOMPOSITION\tINDEXATION\tDEFINITION\n",
      "$ \t0\tFREE\tFREE\tIMPLICIT\n",
      "P\t1\tFREE\tFREE\tEXPLICIT\n",
      "R\t2\tPURELINEAR\tFREE\tIMPLICIT\n",
      "M\t2\tPURELINEAR\tFREE\tIMPLICIT\n",
      "S\t2\tPURELINEAR\tFREE\tIMPLICIT\n",
      "I\t3\tFREE\tFREE\tEXPLICIT\n",
      "U \t3\tFREE\tFREE\tEXPLICIT\n",
      "W\t3\tFREE\tFREE\tEXPLICIT\n",
      "D \t3\tFREE\tFREE\tEXPLICIT\n",
      "E\t4\tFREE\tFREE\tEXPLICIT\n",
      "F\t4\tFREE\tFREE\tEXPLICIT\n",
      "\n",
      "DESCRIPTION :\t\t\t\n",
      "LEFT\tRIGHT\tRELTYPE\tMAX\n",
      "R\tR,M,S\t+\t?\n",
      "R\tR,M,S\t<\t1\n",
      "M\tR,M,S\t+\t?\n",
      "M\tM,S\t<\t1\n",
      "S\tR,M,S\t+\t?\n",
      "S\tS\t<\t1\n",
      "U\tU,W,I,D\t+\t?\n",
      "U\tU,W,I,D\t<\t1\n",
      "W\tU,W,I,D\t+\t?\n",
      "W\tU,W,I,D\t<\t1\n",
      "I\tU,W,I,D\t+\t?\n",
      "D\tU,W,I,D\t<\t1\n",
      "D\tD, W\t+\t?\n",
      "E\tE,F\t+\t?\n",
      "E\tE,F\t<\t1\n",
      "\n",
      "\n",
      "FEATURES:\t\t\t\n",
      "NAME\tTYPE\t\t\n",
      "TopDia\tREAL\t\t\n",
      "XX\tREAL\t\t\n",
      "YY\tREAL\t\t\n",
      "ZZ\tREAL\t\t\n",
      "d98\tREAL\t\t\n",
      "Nli98\tINT\t\t\n",
      "x98\tREAL\t\t\n",
      "y98\tREAL\t\t\n",
      "z98\tREAL\t\t\n",
      "d97\tREAL\t\t\n",
      "rem\tALPHA\t\t\n",
      "Nli97\tINT\n",
      "x97\tREAL\n",
      "y97\tREAL\n",
      "z97\tREAL\n",
      "Nfruit\tREAL\n",
      "MS\tREAL\n",
      "fermete\tREAL\n",
      "IR\tREAL\n",
      "diam\tREAL\n",
      "hauteur\tREAL\n",
      "color\tREAL\n",
      "codeami\tREAL\n",
      "Poids\tREAL\n",
      "Densite\tREAL\n",
      "Hertz\tREAL\n",
      "Elson\tREAL\n",
      "lin\tINT\t\t\t\t\t\t\t\t\t\t\t\t\t\t\t\t\t\t\t\t\t\t\t\t\t\t\t\t\t\t\t\t\t\t\n",
      "\n",
      "MTG:\t\t\t\t\t\t\t\t\t\t\t\t\t\t\t\t\t\t\t\t\t\t\t\t\t\t\t\t\t\t\t\t\t\t\t\n",
      "ENTITY-CODE\t\t\t\t\t\t\t\tTopDia\tXX\tYY\tZZ\td98\tNli98\tx98\ty98\tz98\td97\trem\tNli97\tx97\ty97\tz97\tNfruit\tMS\tfermete\tIR\tdiam\thauteur\tcolor\tcodeami\tPoids\tDensite\tHertz\tElson\tlin\n",
      "/P64\t\t\t\t\t\t\t\t637\t71.03\t9.62\t-12.55\t\t\t\t\t\t\t\t\t\t\t\t\t\t\t\t\t\t\t\t\t\t\t\t1\n",
      "^/R1/U94/E1\t\t\t\t\t\t\t\t637\t71.03\t9.62\t-12.55\t56.4\t1\t129.52\t11.32\t-11.81\t552\t\t1\t-20.27\t-1.56\t-5.39\t\t\t\t\t\t\t\t\t\t\t\t\t2\n",
      "^<E2<<E5\t\t\t\t\t\t\t\t484\t74.42\t10.7\t-21.54\t41.3\t2\t132.84\t12.96\t-25.89\t379\t\t2\t-16.32\t0.33\t-20.19\t\t\t\t\t\t\t\t\t\t\t\t\t3\n",
      "^<E6<<E10\t\t\t\t\t\t\t\t\t\t\t\t42.53\t3\t132.11\t15.16\t-38.43\t394\t\t3\t-17.01\t-0.25\t-37.15\t\t\t\t\t\t\t\t\t\t\t\t\t4\n",
      "^<E11<<E15\t\t\t\t\t\t\t\t448\t73.16\t10.25\t-56.54\t43.46\t4\t132.25\t12.06\t-55.56\t389\t\t4\t-16.34\t-1.36\t-52.16\t\t\t\t\t\t\t\t\t\t\t\t\t5\n",
      "^<E16<<E20\t\t\t\t\t\t\t\t\t\t\t\t42.16\t5\t131.5\t10.17\t-69.82\t392\t\t5\t-16.85\t-3.6\t-66.77\t\t\t\t\t\t\t\t\t\t\t\t\t6\n",
      "^<E21<<E25\t\t\t\t\t\t\t\t447\t70.33\t6.42\t-81.78\t42.83\t6\t131\t8.81\t-78.68\t396\t\t6\t-17.79\t-4.66\t-75.34\t\t\t\t\t\t\t\t\t\t\t\t\t7\n",
      "\t+S1/I95/E1+D95/E1<D96/E1<I97/E1+D97/E1\t\t\t\t\t\t\t\t\t\t\t\t7\t\t\t\t\t\t7\t-25.27\t-3.74\t-74.06\t\t\t\t\t\t\t\t\t\t\t\t\t8\n",
      "\t^<I98/E1+D98/E1\t\t\t\t\t\t\t\t\t\t\t\t8\t121.7\t10.24\t-78.37\t\t\t\t\t\t\t\t\t\t\t\t\t\t\t\t\t\t\t9\n",
      "\t^<I99/E1\t\t\t\t\t\t\t\t60.6\t8\t-80.08\t\t\t\t\t\t\t\t\t\t\t\t\t\t\t\t\t\t\t\t\t\t\t\t10\n",
      "\t\t+S1/D99/E1\t\t\t\t\t\t\t60.51\t7.54\t-80.82\t\t\t\t\t\t\t\t\t\t\t\t\t\t\t\t\t\t\t\t\t\t\t\t11\n",
      "\t^<E2\t\t\t\t\t\t\t\t\t\t\t\t\t\t\t\t\t\t\t\t\t\t\t\t\t\t\t\t\t\t\t\t\t\t12\n",
      "\t\t+D99/E1\t\t\t\t\t\t\t60.53\t7.14\t-78.58\t\t\t\t\t\t\t\t\t\t\t\t\t\t\t\t\t\t\t\t\t\t\t\t13\n",
      "\t^<F1\t\t\t\t\t\t\t\t\t\t\t\t\t\t\t\t\t\t\t\t\t\t\t\t\t\t\t\t\t\t\t\t\t\t14\n",
      "^<E26\t\t\t\t\t\t\t\t\t\t\t\t\t9\t\t\t\t\tCASSE\t\t\t\t\t\t\t\t\t\t\t\t\t\t\t\t\t15\n",
      "^<E27\t\t\t\t\t\t\t\t\t\t\t\t\t10\t\t\t\t\t\t\t\t\t\t\t\t\t\t\t\t\t\t\t\t\t\t16\n",
      "\t+R1/D95/E1<I96/E1+D96/E1<I97/E1\t\t\t\t\t\t\t\t\t\t\t8.9\t11\t125.59\t-0.39\t-87.12\t86\t\t8\t-22.77\t-14.13\t-82.03\t\t\t\t\t\t\t\t\t\t\t\t\t17\n",
      "\t\t+U97/E1<<E5\t\t\t\t\t\t46\t65.97\t-6.25\t-89.59\t5.7\t12\t125.68\t-3.79\t-87.56\t47\t\t9\t-22.03\t-20.08\t-84.92\t\t\t\t\t\t\t\t\t\t\t\t\t18\n",
      "\t\t^<E6\t\t\t\t\t\t\t\t\t\t\t13\t\t\t\t\t\t\t\t\t\t\t\t\t\t\t\t\t\t\t\t\t\t19\n",
      "\t\t\t+S1/I98/E1\t\t\t\t\t\t\t\t\t\t14\t125.92\t-6.65\t-86.52\t\t\t\t\t\t\t\t\t\t\t\t\t\t\t\t\t\t\t20\n",
      "\t\t^<E7<E8\t\t\t\t\t\t\t\t\t\t\t15\t\t\t\t\t\t\t\t\t\t\t\t\t\t\t\t\t\t\t\t\t\t21\n",
      "\t\t\t+S1/I98/E1\t\t\t\t\t\t\t\t\t\t16\t125.23\t-7.97\t-84.53\t\t\t\t\t\t\t\t\t\t\t\t\t\t\t\t\t\t\t22\n"
     ]
    }
   ],
   "source": [
    "s =!cat $breaburn\n",
    "print '\\n'.join(s[:90])"
   ]
  },
  {
   "cell_type": "markdown",
   "metadata": {},
   "source": [
    "## Load MTGs in memory\n",
    "\n",
    "- Vertex identifier: vid\n",
    "- MTG data structure : g\n"
   ]
  },
  {
   "cell_type": "code",
   "execution_count": 3,
   "metadata": {},
   "outputs": [
    {
     "name": "stdout",
     "output_type": "stream",
     "text": [
      "NOT using graph editor observer No module named grapheditor\n",
      "MTG : nb_vertices=22299, nb_scales=5\n"
     ]
    }
   ],
   "source": [
    "from openalea.mtg import *\n",
    "g = MTG(breaburn)\n",
    "print g"
   ]
  },
  {
   "cell_type": "code",
   "execution_count": 4,
   "metadata": {},
   "outputs": [
    {
     "name": "stdout",
     "output_type": "stream",
     "text": [
      "Nb vertices at scale  1 :  1\n",
      "Classes :  ['P']\n",
      "\n",
      "Nb vertices at scale  2 :  2361\n",
      "Classes :  ['S', 'R', 'M']\n",
      "\n",
      "Nb vertices at scale  3 :  6580\n",
      "Classes :  ['I', 'U', 'D', 'W']\n",
      "\n",
      "Nb vertices at scale  4 :  13356\n",
      "Classes :  ['E', 'F']\n",
      "\n"
     ]
    }
   ],
   "source": [
    "# Print the number of scales\n",
    "nb_scales = g.nb_scales()\n",
    "\n",
    "# Print the vertices at different scales\n",
    "for scale in range(1, nb_scales):\n",
    "    print 'Nb vertices at scale ', scale, ': ', g.nb_vertices(scale=scale)\n",
    "    print 'Classes : ', list(set(g.Class(vid) for vid in g.vertices(scale=scale)))\n",
    "    print"
   ]
  },
  {
   "cell_type": "markdown",
   "metadata": {},
   "source": [
    "# Classes represent modularities\n",
    "## Scale 1: P = Plant\n",
    "\n",
    "## scale 2: Axes \n",
    "- S: Short \n",
    "- R : Long  \n",
    "- M : Medium \n",
    "\n",
    "## scale 3 : Growth Unit\n",
    "- I : Inflorescence\n",
    "- U : Long GU\n",
    "- D : Short GU\n",
    "- W : Medium GU\n",
    "\n",
    "## Scale 4: phytomer\n",
    "- E: vegetative\n",
    "- F: fruit\n",
    "\n",
    "Fruit are not a modularity but we can encore specific attributes"
   ]
  },
  {
   "cell_type": "code",
   "execution_count": 5,
   "metadata": {},
   "outputs": [
    {
     "name": "stdout",
     "output_type": "stream",
     "text": [
      "['E', 'D', 'F', 'I', 'M', 'P', 'S', 'R', 'U', 'W']\n",
      "Nb E 12745\n"
     ]
    }
   ],
   "source": [
    "# Select all the vertices of each classes\n",
    "\n",
    "classes = list(set(g.Class(vid) for vid in g.vertices() if g.Class(vid)))\n",
    "print classes\n",
    "\n",
    "def vertices(g, class_name='P'):\n",
    "    return [vid for vid in g.vertices() if g.Class(vid)==class_name]\n",
    "\n",
    "vids_E = vertices(g, 'E')\n",
    "print 'Nb E', len(vids_E)\n",
    "\n",
    "# Get the properties of one E vertex\n",
    "\n",
    "\n"
   ]
  },
  {
   "cell_type": "markdown",
   "metadata": {},
   "source": [
    "# Get properties on the MTG and on each vertices"
   ]
  },
  {
   "cell_type": "code",
   "execution_count": 6,
   "metadata": {},
   "outputs": [
    {
     "name": "stdout",
     "output_type": "stream",
     "text": [
      "['y97', 'x97', 'x98', 'y98', 'Hertz', 'YY', 'edge_type', 'Nfruit', 'Densite', '_line', 'index', 'diam', 'Nli98', 'lin', 'label', 'color', 'rem', 'TopDia', 'hauteur', 'd97', 'd98', 'Elson', 'IR', 'XX', 'ZZ', 'Poids', 'fermete', 'codeami', 'z97', 'MS', 'Nli97', 'z98']\n",
      "{11265: 77.04, 1411: 68.3, 21767: 61.4, 16300: 72.4, 5635: 73.9, 13422: 71.7, 5399: 73.3, 18095: 70.9, 13725: 73.1, 17823: 69.1, 9121: 68.4, 4004: 68.9, 4389: 78.1, 2481: 75.3, 11560: 66.0, 5036: 68.7, 20269: 63.5, 10031: 79.3, 5681: 67.2, 19892: 73.6, 20021: 71.8, 13110: 78.1, 17417: 64.2, 10809: 72.2, 1723: 68.4, 4415: 73.0, 20534: 64.11, 586: 70.6, 17611: 61.1, 3533: 74.1, 5072: 69.7, 21205: 61.1, 15446: 72.1, 10074: 72.1, 3805: 78.1, 14686: 64.8, 5344: 63.8, 21731: 74.74, 12905: 73.8, 11630: 61.1, 8305: 61.05, 21621: 64.5, 21117: 76.01, 18581: 64.4}\n",
      "{'vid': 4, 'y97': -1.56, 'd98': 56.4, 'parent': None, 'x97': -20.27, 'x98': 129.52, 'd97': 552.0, 'y98': 11.32, 'YY': 9.62, 'XX': 71.03, 'ZZ': -12.55, '_line': 69, 'index': '1', 'scale': 4, 'Nli98': 1, 'lin': 2, 'label': 'E1', 'z97': -5.39, 'complex': 3, 'TopDia': 637.0, 'Nli97': 1, 'z98': -11.81}\n",
      "{'_line': 69, 'index': 1, 'y97': -1.56, 'd98': 56.4, 'Nli98': 1, 'x97': -20.27, 'x98': 129.52, 'lin': 2, 'd97': 552.0, 'y98': 11.32, 'label': 'E1', 'YY': 9.62, 'z97': -5.39, 'XX': 71.03, 'ZZ': -12.55, 'TopDia': 637.0, 'Nli97': 1, 'z98': -11.81}\n",
      "E1\n",
      "E1\n",
      "1\n"
     ]
    }
   ],
   "source": [
    "# Get one vertex\n",
    "vid = vids_E[0]\n",
    "\n",
    "# Properties on the MTG: this exclude all the topological properties\n",
    "print g.property_names()\n",
    "\n",
    "# Retrieve one property for the MTG (dict)\n",
    "height = g.property('hauteur')\n",
    "print height\n",
    "\n",
    "# There are several methods to get all the properties of a given vertex (eg vid)\n",
    "print g[vid]\n",
    "node = g.node(vid)\n",
    "print node.properties()\n",
    "\n",
    "# get the label\n",
    "print g[vid]['label']\n",
    "print node.label\n",
    "print node.index()"
   ]
  },
  {
   "cell_type": "markdown",
   "metadata": {},
   "source": [
    "## Compute at GU scale the number of growth unit by type and year\n",
    "\n",
    "- the class of a vertex : g.Class(v)\n",
    "- the year is the encoded as the index: $label = class + index$\n",
    "year = g.index(v) or node.index()"
   ]
  },
  {
   "cell_type": "code",
   "execution_count": 7,
   "metadata": {},
   "outputs": [
    {
     "name": "stdout",
     "output_type": "stream",
     "text": [
      "[94, 95, 96, 97, 98, 99]\n",
      "set(['I', 'U', 'D', 'W'])\n",
      "{'I': {96: 151, 97: 598, 98: 1006, 99: 1208, 94: 0, 95: 12}, 'U': {96: 40, 97: 37, 98: 8, 99: 1, 94: 1, 95: 10}, 'D': {96: 108, 97: 551, 98: 891, 99: 1502, 94: 0, 95: 10}, 'W': {96: 46, 97: 117, 98: 200, 99: 83, 94: 0, 95: 0}}\n"
     ]
    },
    {
     "data": {
      "text/plain": [
       "<matplotlib.axes._subplots.AxesSubplot at 0x10b6a5b10>"
      ]
     },
     "execution_count": 7,
     "metadata": {},
     "output_type": "execute_result"
    },
    {
     "data": {
      "image/png": "[encoded data removed]",
      "text/plain": [
       "<matplotlib.figure.Figure at 0x10190db90>"
      ]
     },
     "metadata": {},
     "output_type": "display_data"
    }
   ],
   "source": [
    "%matplotlib inline\n",
    "import pandas as pd\n",
    "\n",
    "# Extract the years\n",
    "years = set(int(g.index(vid)) for vid in g.vertices(scale=3))\n",
    "print sorted(years)\n",
    "\n",
    "classes = set(g.Class(vid) for vid in g.vertices(scale=3))\n",
    "print classes\n",
    "\n",
    "d = {}\n",
    "\n",
    "for c in classes:\n",
    "    d[c] = {}\n",
    "    for y in years:\n",
    "        d[c][y] = 0\n",
    "        \n",
    "for vid in g.vertices(scale=3):\n",
    "    _class = g.Class(vid)\n",
    "    _year = int(g.index(vid))\n",
    "    d[_class][_year] += 1\n",
    "    \n",
    "print d\n",
    "\n",
    "df = pd.DataFrame.from_dict(d)\n",
    "df.plot()"
   ]
  },
  {
   "cell_type": "code",
   "execution_count": 8,
   "metadata": {},
   "outputs": [],
   "source": [
    "# Export to a pandas dataframe\n",
    "\n",
    "# We need a dict with columns class, year and number\n",
    "\n",
    "dd = datadict = {'class':[], 'year': [], 'number':[]}\n",
    "for k in d:\n",
    "    for y in d[k]:\n",
    "        dd['class'].append(k)\n",
    "        dd['year'].append(y)\n",
    "        dd['number'].append(d[k][y])\n",
    "        \n",
    "\n",
    "df = pd.DataFrame(data=dd, index=None, columns=['class', 'year', 'number'])\n",
    "df.sort_values(['class', 'year'])\n",
    "df.to_csv('result_GU_num.csv', index=None)"
   ]
  },
  {
   "cell_type": "code",
   "execution_count": 9,
   "metadata": {},
   "outputs": [
    {
     "data": {
      "text/plain": [
       "<matplotlib.axes._subplots.AxesSubplot at 0x10653fcd0>"
      ]
     },
     "execution_count": 9,
     "metadata": {},
     "output_type": "execute_result"
    },
    {
     "data": {
      "image/png": "[encoded data removed]",
      "text/plain": [
       "<matplotlib.figure.Figure at 0x1067e2810>"
      ]
     },
     "metadata": {},
     "output_type": "display_data"
    }
   ],
   "source": [
    "\n",
    "df.plot(x='year', y='number', by='class', kind='bar')"
   ]
  },
  {
   "cell_type": "markdown",
   "metadata": {},
   "source": [
    "## Extract for each Growth Unit the number of metamer (components at scale 4)"
   ]
  },
  {
   "cell_type": "code",
   "execution_count": 10,
   "metadata": {},
   "outputs": [],
   "source": [
    "GUs = g.vertices(scale=3)\n",
    "\n",
    "nb_metamers = [(vid, g.Class(vid), g.nb_components(vid)) for vid in GUs]\n",
    "\n",
    "df_gu = pd.DataFrame(nb_metamers, columns=['vid', 'class', 'number'])\n",
    "\n",
    "df_gu.to_csv('result_metamer_num.csv', index=None)"
   ]
  },
  {
   "cell_type": "markdown",
   "metadata": {},
   "source": [
    "## Extract the number of ramification from each growth unit"
   ]
  },
  {
   "cell_type": "code",
   "execution_count": 11,
   "metadata": {},
   "outputs": [],
   "source": [
    "# You can use the method Sons on MTG\n",
    "\n",
    "nb_ramifs = [(vid, g.Class(vid), len(g.Sons(vid, EdgeType='+'))) for vid in GUs]\n",
    "df_ramif = pd.DataFrame(nb_ramifs, columns=['vid', 'class', 'number'])\n",
    "\n",
    "df_ramif.to_csv('result_branch_num.csv', index=None)"
   ]
  },
  {
   "cell_type": "markdown",
   "metadata": {},
   "source": [
    "## For each vertex at scale Metamer (scale =4), population of ramifications and position\n",
    "\n",
    "- vertex of the complex\n",
    "- Class of complex\n",
    "- year of complex\n",
    "- position / rank of each metamer\n",
    "- if no ramification, put B (blind) else the class of the complex of its child\n"
   ]
  },
  {
   "cell_type": "code",
   "execution_count": 12,
   "metadata": {},
   "outputs": [],
   "source": [
    "def rank(v):\n",
    "    cid = g.complex(v)\n",
    "    root_in_complex = g.component_roots(cid)[0]\n",
    "    return g.Height(root_in_complex, v)\n",
    "\n",
    "ramif_location = []\n",
    "\n",
    "for vid in g.vertices(scale=4):\n",
    "    complex_id = g.complex(vid)\n",
    "    c_class = g.class_name(complex_id)\n",
    "    year = g.index(complex_id)\n",
    "    metamer_rank = rank(vid)\n",
    "    ramifs = g.Sons(vid, EdgeType='+')\n",
    "    nb_ramifs = len(ramifs)\n",
    "    # Class of the complex of the ramif\n",
    "    ramif_class = g.class_name(g.complex(ramifs[0])) if (nb_ramifs != 0) else 'B' \n",
    "    \n",
    "    ramif_location.append((complex_id, c_class, year, metamer_rank, nb_ramifs, ramif_class))\n",
    "    \n",
    "df_pop = pd.DataFrame(ramif_location, columns=['cid', 'class', 'year', 'metamer_rank', 'number_ramif', 'ramif_class'])\n",
    "df_pop.to_csv('result_ramif_location.csv', index=None)\n",
    "    \n",
    "    "
   ]
  },
  {
   "cell_type": "markdown",
   "metadata": {},
   "source": [
    "## For each year, and each type  give the number of successor of each type\n",
    "\n",
    "For all the Growth Unit of a given class and  year : \n",
    "- get the number of successor (its child whose edge_type is '<') of each type\n",
    "\n",
    "There is a particular case for inflorescences:\n",
    "- In case of inflo GrowthUnit (class I), the successor is a ramification (edge-type == '+') due to its sympodial nature.\n",
    "\n"
   ]
  },
  {
   "cell_type": "code",
   "execution_count": 13,
   "metadata": {},
   "outputs": [
    {
     "data": {
      "text/html": [
       "<div>\n",
       "<style scoped>\n",
       "    .dataframe tbody tr th:only-of-type {\n",
       "        vertical-align: middle;\n",
       "    }\n",
       "\n",
       "    .dataframe tbody tr th {\n",
       "        vertical-align: top;\n",
       "    }\n",
       "\n",
       "    .dataframe thead th {\n",
       "        text-align: right;\n",
       "    }\n",
       "</style>\n",
       "<table border=\"1\" class=\"dataframe\">\n",
       "  <thead>\n",
       "    <tr style=\"text-align: right;\">\n",
       "      <th></th>\n",
       "      <th>class</th>\n",
       "      <th>year</th>\n",
       "      <th>I</th>\n",
       "      <th>U</th>\n",
       "      <th>D</th>\n",
       "      <th>W</th>\n",
       "    </tr>\n",
       "  </thead>\n",
       "  <tbody>\n",
       "    <tr>\n",
       "      <th>0</th>\n",
       "      <td>I</td>\n",
       "      <td>96</td>\n",
       "      <td>0</td>\n",
       "      <td>36</td>\n",
       "      <td>106</td>\n",
       "      <td>30</td>\n",
       "    </tr>\n",
       "    <tr>\n",
       "      <th>1</th>\n",
       "      <td>I</td>\n",
       "      <td>97</td>\n",
       "      <td>5</td>\n",
       "      <td>33</td>\n",
       "      <td>540</td>\n",
       "      <td>90</td>\n",
       "    </tr>\n",
       "    <tr>\n",
       "      <th>2</th>\n",
       "      <td>I</td>\n",
       "      <td>98</td>\n",
       "      <td>4</td>\n",
       "      <td>4</td>\n",
       "      <td>858</td>\n",
       "      <td>162</td>\n",
       "    </tr>\n",
       "    <tr>\n",
       "      <th>3</th>\n",
       "      <td>I</td>\n",
       "      <td>99</td>\n",
       "      <td>0</td>\n",
       "      <td>0</td>\n",
       "      <td>1305</td>\n",
       "      <td>43</td>\n",
       "    </tr>\n",
       "    <tr>\n",
       "      <th>4</th>\n",
       "      <td>I</td>\n",
       "      <td>94</td>\n",
       "      <td>0</td>\n",
       "      <td>0</td>\n",
       "      <td>0</td>\n",
       "      <td>0</td>\n",
       "    </tr>\n",
       "    <tr>\n",
       "      <th>5</th>\n",
       "      <td>I</td>\n",
       "      <td>95</td>\n",
       "      <td>0</td>\n",
       "      <td>6</td>\n",
       "      <td>7</td>\n",
       "      <td>0</td>\n",
       "    </tr>\n",
       "    <tr>\n",
       "      <th>6</th>\n",
       "      <td>U</td>\n",
       "      <td>96</td>\n",
       "      <td>25</td>\n",
       "      <td>1</td>\n",
       "      <td>0</td>\n",
       "      <td>13</td>\n",
       "    </tr>\n",
       "    <tr>\n",
       "      <th>7</th>\n",
       "      <td>U</td>\n",
       "      <td>97</td>\n",
       "      <td>20</td>\n",
       "      <td>3</td>\n",
       "      <td>0</td>\n",
       "      <td>14</td>\n",
       "    </tr>\n",
       "    <tr>\n",
       "      <th>8</th>\n",
       "      <td>U</td>\n",
       "      <td>98</td>\n",
       "      <td>6</td>\n",
       "      <td>1</td>\n",
       "      <td>0</td>\n",
       "      <td>1</td>\n",
       "    </tr>\n",
       "    <tr>\n",
       "      <th>9</th>\n",
       "      <td>U</td>\n",
       "      <td>99</td>\n",
       "      <td>0</td>\n",
       "      <td>0</td>\n",
       "      <td>0</td>\n",
       "      <td>0</td>\n",
       "    </tr>\n",
       "    <tr>\n",
       "      <th>10</th>\n",
       "      <td>U</td>\n",
       "      <td>94</td>\n",
       "      <td>0</td>\n",
       "      <td>1</td>\n",
       "      <td>0</td>\n",
       "      <td>0</td>\n",
       "    </tr>\n",
       "    <tr>\n",
       "      <th>11</th>\n",
       "      <td>U</td>\n",
       "      <td>95</td>\n",
       "      <td>8</td>\n",
       "      <td>1</td>\n",
       "      <td>0</td>\n",
       "      <td>0</td>\n",
       "    </tr>\n",
       "    <tr>\n",
       "      <th>12</th>\n",
       "      <td>D</td>\n",
       "      <td>96</td>\n",
       "      <td>103</td>\n",
       "      <td>1</td>\n",
       "      <td>1</td>\n",
       "      <td>2</td>\n",
       "    </tr>\n",
       "    <tr>\n",
       "      <th>13</th>\n",
       "      <td>D</td>\n",
       "      <td>97</td>\n",
       "      <td>459</td>\n",
       "      <td>1</td>\n",
       "      <td>9</td>\n",
       "      <td>14</td>\n",
       "    </tr>\n",
       "    <tr>\n",
       "      <th>14</th>\n",
       "      <td>D</td>\n",
       "      <td>98</td>\n",
       "      <td>625</td>\n",
       "      <td>0</td>\n",
       "      <td>142</td>\n",
       "      <td>22</td>\n",
       "    </tr>\n",
       "    <tr>\n",
       "      <th>15</th>\n",
       "      <td>D</td>\n",
       "      <td>99</td>\n",
       "      <td>0</td>\n",
       "      <td>0</td>\n",
       "      <td>0</td>\n",
       "      <td>0</td>\n",
       "    </tr>\n",
       "    <tr>\n",
       "      <th>16</th>\n",
       "      <td>D</td>\n",
       "      <td>94</td>\n",
       "      <td>0</td>\n",
       "      <td>0</td>\n",
       "      <td>0</td>\n",
       "      <td>0</td>\n",
       "    </tr>\n",
       "    <tr>\n",
       "      <th>17</th>\n",
       "      <td>D</td>\n",
       "      <td>95</td>\n",
       "      <td>9</td>\n",
       "      <td>0</td>\n",
       "      <td>1</td>\n",
       "      <td>0</td>\n",
       "    </tr>\n",
       "    <tr>\n",
       "      <th>18</th>\n",
       "      <td>W</td>\n",
       "      <td>96</td>\n",
       "      <td>43</td>\n",
       "      <td>0</td>\n",
       "      <td>0</td>\n",
       "      <td>0</td>\n",
       "    </tr>\n",
       "    <tr>\n",
       "      <th>19</th>\n",
       "      <td>W</td>\n",
       "      <td>97</td>\n",
       "      <td>94</td>\n",
       "      <td>0</td>\n",
       "      <td>0</td>\n",
       "      <td>13</td>\n",
       "    </tr>\n",
       "    <tr>\n",
       "      <th>20</th>\n",
       "      <td>W</td>\n",
       "      <td>98</td>\n",
       "      <td>171</td>\n",
       "      <td>0</td>\n",
       "      <td>0</td>\n",
       "      <td>16</td>\n",
       "    </tr>\n",
       "    <tr>\n",
       "      <th>21</th>\n",
       "      <td>W</td>\n",
       "      <td>99</td>\n",
       "      <td>0</td>\n",
       "      <td>0</td>\n",
       "      <td>0</td>\n",
       "      <td>0</td>\n",
       "    </tr>\n",
       "    <tr>\n",
       "      <th>22</th>\n",
       "      <td>W</td>\n",
       "      <td>94</td>\n",
       "      <td>0</td>\n",
       "      <td>0</td>\n",
       "      <td>0</td>\n",
       "      <td>0</td>\n",
       "    </tr>\n",
       "    <tr>\n",
       "      <th>23</th>\n",
       "      <td>W</td>\n",
       "      <td>95</td>\n",
       "      <td>0</td>\n",
       "      <td>0</td>\n",
       "      <td>0</td>\n",
       "      <td>0</td>\n",
       "    </tr>\n",
       "  </tbody>\n",
       "</table>\n",
       "</div>"
      ],
      "text/plain": [
       "   class  year    I   U     D    W\n",
       "0      I    96    0  36   106   30\n",
       "1      I    97    5  33   540   90\n",
       "2      I    98    4   4   858  162\n",
       "3      I    99    0   0  1305   43\n",
       "4      I    94    0   0     0    0\n",
       "5      I    95    0   6     7    0\n",
       "6      U    96   25   1     0   13\n",
       "7      U    97   20   3     0   14\n",
       "8      U    98    6   1     0    1\n",
       "9      U    99    0   0     0    0\n",
       "10     U    94    0   1     0    0\n",
       "11     U    95    8   1     0    0\n",
       "12     D    96  103   1     1    2\n",
       "13     D    97  459   1     9   14\n",
       "14     D    98  625   0   142   22\n",
       "15     D    99    0   0     0    0\n",
       "16     D    94    0   0     0    0\n",
       "17     D    95    9   0     1    0\n",
       "18     W    96   43   0     0    0\n",
       "19     W    97   94   0     0   13\n",
       "20     W    98  171   0     0   16\n",
       "21     W    99    0   0     0    0\n",
       "22     W    94    0   0     0    0\n",
       "23     W    95    0   0     0    0"
      ]
     },
     "execution_count": 13,
     "metadata": {},
     "output_type": "execute_result"
    }
   ],
   "source": [
    "# {'D', 'I', 'U', 'W'} with I : inflorescence\n",
    "classes = set(g.class_name(vid) for vid in g.vertices(scale=3))\n",
    "\n",
    "\n",
    "d = {}\n",
    "\n",
    "for c in classes:\n",
    "    d[c] = {}\n",
    "    for y in years:\n",
    "        d[c][y] = {}\n",
    "        for sc in classes:\n",
    "            d[c][y][sc] = 0\n",
    "\n",
    "        \n",
    "def my_successors(vid):\n",
    "    if g.class_name(vid) != 'I':\n",
    "        cid = g.Successor(vid)\n",
    "        if cid is not None:\n",
    "            return [cid]\n",
    "        else:\n",
    "            return []\n",
    "    else:\n",
    "        return g.children(vid)\n",
    "\n",
    "for vid in GUs:\n",
    "    _class = g.Class(vid)\n",
    "    _year = int(g.index(vid))\n",
    "    kids = my_successors(vid)\n",
    "    for cid in kids:\n",
    "        s_class = g.Class(cid)\n",
    "        d[_class][_year][s_class] += 1\n",
    "\n",
    "successors = []\n",
    "for klass in d:\n",
    "    for _year in d[klass]:\n",
    "        data = [klass, _year]\n",
    "        for succ_klass in classes:\n",
    "            data.append(d[klass][_year][succ_klass])\n",
    "        successors.append(data)\n",
    "\n",
    "columns= ['class', 'year']+list(classes)\n",
    "\n",
    "df_successors = pd.DataFrame(successors, columns=columns)\n",
    "df_successors.to_csv('result_successors.csv', index=None)\n",
    "df_successors"
   ]
  },
  {
   "cell_type": "markdown",
   "metadata": {},
   "source": [
    "## Plot the geometry of the Tree"
   ]
  },
  {
   "cell_type": "code",
   "execution_count": null,
   "metadata": {},
   "outputs": [],
   "source": []
  }
 ],
 "metadata": {
  "kernelspec": {
   "display_name": "IPython (Python 2)",
   "language": "python",
   "name": "python2"
  },
  "language_info": {
   "codemirror_mode": {
    "name": "ipython",
    "version": 2
   },
   "file_extension": ".py",
   "mimetype": "text/x-python",
   "name": "python",
   "nbconvert_exporter": "python",
   "pygments_lexer": "ipython2",
   "version": "2.7.14"
  }
 },
 "nbformat": 4,
 "nbformat_minor": 2
}
